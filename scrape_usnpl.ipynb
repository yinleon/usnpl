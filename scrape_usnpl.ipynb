{
 "cells": [
  {
   "cell_type": "code",
   "execution_count": 104,
   "metadata": {},
   "outputs": [
    {
     "name": "stdout",
     "output_type": "stream",
     "text": [
      "Updated 2018-02-27 14:50:36.395425\n",
      "By leonyin\n",
      "Using Python 3.6.1\n",
      "On Darwin-17.4.0-x86_64-i386-64bit\n"
     ]
    }
   ],
   "source": [
    "runtime_meta()"
   ]
  },
  {
   "cell_type": "markdown",
   "metadata": {},
   "source": [
    "# USNPL\n",
    "A scraper for the <a hef=\"http://www.usnpl.com/canews.php\">usnpl</a> site for newspapers, magazines, and college papers.\n",
    "\n",
    "### The output has\n",
    "Geography - The state of the media source.<br>\n",
    "Name - The name of the media source.<br>\n",
    "Facebook - The URL for the Facebook account.<br>\n",
    "Twitter_Name - The Tweet screen name for the Twitter account.<br>\n",
    "Twitter_ID - The Tweet ID for the Twitter Account.<br>\n",
    "Website - The URL for the media source<br>\n",
    "Medium - What format is the media source?\n"
   ]
  },
  {
   "cell_type": "code",
   "execution_count": 2,
   "metadata": {
    "collapsed": true
   },
   "outputs": [],
   "source": [
    "import os\n",
    "import time\n",
    "import requests\n",
    "\n",
    "import tweepy\n",
    "import pandas as pd\n",
    "from bs4 import BeautifulSoup"
   ]
  },
  {
   "cell_type": "code",
   "execution_count": 3,
   "metadata": {
    "collapsed": true
   },
   "outputs": [],
   "source": [
    "states = '''ak\t  al\t  ar\t  az\t  ca\t  co\t  ct\t  dc\t  de\t  fl\t  ga\t  hi\t  ia\t  id\t  il\t  in\t  ks   ky\t  la\t  ma\t  md\t  me\t  mi\t  mn\t  mo\t  ms\t  mt\t  nc\t  nd\t  ne\t  nh\t  nj\t  nm\t  nv\t  ny\t  oh\t  ok\t  or\t  pa\t  ri\t  sc\t  sd\t  tn\t  tx\t  ut\t  va\t  vt\t  wa\t  wi\t  wv\t  wy\t'''\n",
    "states = [s.strip() for s in states.split('  ')]"
   ]
  },
  {
   "cell_type": "code",
   "execution_count": 93,
   "metadata": {
    "collapsed": true
   },
   "outputs": [],
   "source": [
    "def parse_row(soup):\n",
    "    city = soup.find('b').text\n",
    "    name = soup.find('a').text\n",
    "    web = soup.find('a').get('href')\n",
    "    \n",
    "    fb = soup.find('a', text='F')\n",
    "    if fb:\n",
    "        fb= fb.get('href')\n",
    "    tw = soup.find('a', text='T')\n",
    "    if tw:\n",
    "        tw=tw.get('href').replace('http://www.twitter.com/', '')\n",
    "    \n",
    "    return {\n",
    "        'Facebook' : fb,\n",
    "        'Twitter_Name' : tw,\n",
    "        'Name' : name,\n",
    "        'Website' : web\n",
    "    }"
   ]
  },
  {
   "cell_type": "code",
   "execution_count": 101,
   "metadata": {},
   "outputs": [],
   "source": [
    "sites = []\n",
    "for state in states:\n",
    "    url = 'http://www.usnpl.com/{}news.php'.format(state)\n",
    "    r = requests.get(url)\n",
    "    soup = BeautifulSoup(r.content, 'lxml')\n",
    "    \n",
    "    data_possibilities = soup.find_all('div' ,{\"id\" : 'data_box'})\n",
    "    for i, raw_table in enumerate(data_possibilities[1:]):\n",
    "        j = 1 if i == 0 else 0\n",
    "        medium = raw_table.find('h3').text\n",
    "        if medium == 'Newspapers':\n",
    "            data_table = str(raw_table).split('<br/><br/>\\n</div>\\n')[j]\n",
    "            entries_to_parse = data_table.rstrip('</div>').split('\\n<br/>\\n')\n",
    "        elif medium in ['Magazines', 'College Newspapers']:\n",
    "            data_table = str(raw_table).split('<title>Untitled Document</title>')[1]\n",
    "            entries_to_parse = data_table.rstrip('</div>').split('\\n<br/>\\n')\n",
    "        else:\n",
    "            break\n",
    "            \n",
    "        for row in tqdm(entries_to_parse):\n",
    "            row = row.strip('\\r').strip('\\n')\n",
    "            if row:\n",
    "                entry = parse_row(BeautifulSoup(row, 'lxml'))\n",
    "                entry['Geography'] = state.upper()\n",
    "                entry['Medium'] = medium\n",
    "                sites.append(entry)\n",
    "        time.sleep(1)"
   ]
  },
  {
   "cell_type": "code",
   "execution_count": 97,
   "metadata": {
    "collapsed": true
   },
   "outputs": [],
   "source": [
    "df = pd.DataFrame(sites)"
   ]
  },
  {
   "cell_type": "code",
   "execution_count": 105,
   "metadata": {},
   "outputs": [
    {
     "data": {
      "text/html": [
       "<div>\n",
       "<table border=\"1\" class=\"dataframe\">\n",
       "  <thead>\n",
       "    <tr style=\"text-align: right;\">\n",
       "      <th></th>\n",
       "      <th>Facebook</th>\n",
       "      <th>Geography</th>\n",
       "      <th>Medium</th>\n",
       "      <th>Name</th>\n",
       "      <th>Twitter_Name</th>\n",
       "      <th>Website</th>\n",
       "    </tr>\n",
       "  </thead>\n",
       "  <tbody>\n",
       "    <tr>\n",
       "      <th>0</th>\n",
       "      <td>https://www.facebook.com/akdispatch</td>\n",
       "      <td>AK</td>\n",
       "      <td>Newspapers</td>\n",
       "      <td>Alaska Dispatch News</td>\n",
       "      <td>adndotcom</td>\n",
       "      <td>http://www.adn.com/</td>\n",
       "    </tr>\n",
       "    <tr>\n",
       "      <th>1</th>\n",
       "      <td>https://www.facebook.com/AlaskaJournal</td>\n",
       "      <td>AK</td>\n",
       "      <td>Newspapers</td>\n",
       "      <td>Alaska Journal of Commerce</td>\n",
       "      <td>alaskajournal</td>\n",
       "      <td>http://www.alaskajournal.com/</td>\n",
       "    </tr>\n",
       "    <tr>\n",
       "      <th>2</th>\n",
       "      <td>https://www.facebook.com/anchoragepress</td>\n",
       "      <td>AK</td>\n",
       "      <td>Newspapers</td>\n",
       "      <td>Anchorage Press</td>\n",
       "      <td>anchoragepress</td>\n",
       "      <td>http://www.anchoragepress.com/</td>\n",
       "    </tr>\n",
       "    <tr>\n",
       "      <th>3</th>\n",
       "      <td>https://www.facebook.com/PetroleumNews</td>\n",
       "      <td>AK</td>\n",
       "      <td>Newspapers</td>\n",
       "      <td>Petroleum News</td>\n",
       "      <td>None</td>\n",
       "      <td>http://www.petroleumnews.com/</td>\n",
       "    </tr>\n",
       "    <tr>\n",
       "      <th>4</th>\n",
       "      <td>https://www.facebook.com/deltadiscovery</td>\n",
       "      <td>AK</td>\n",
       "      <td>Newspapers</td>\n",
       "      <td>Delta Discovery</td>\n",
       "      <td>None</td>\n",
       "      <td>http://www.deltadiscovery.com/</td>\n",
       "    </tr>\n",
       "  </tbody>\n",
       "</table>\n",
       "</div>"
      ],
      "text/plain": [
       "                                  Facebook Geography      Medium  \\\n",
       "0      https://www.facebook.com/akdispatch        AK  Newspapers   \n",
       "1   https://www.facebook.com/AlaskaJournal        AK  Newspapers   \n",
       "2  https://www.facebook.com/anchoragepress        AK  Newspapers   \n",
       "3   https://www.facebook.com/PetroleumNews        AK  Newspapers   \n",
       "4  https://www.facebook.com/deltadiscovery        AK  Newspapers   \n",
       "\n",
       "                         Name    Twitter_Name                         Website  \n",
       "0        Alaska Dispatch News       adndotcom             http://www.adn.com/  \n",
       "1  Alaska Journal of Commerce   alaskajournal   http://www.alaskajournal.com/  \n",
       "2            Anchorage Press   anchoragepress  http://www.anchoragepress.com/  \n",
       "3              Petroleum News            None   http://www.petroleumnews.com/  \n",
       "4             Delta Discovery            None  http://www.deltadiscovery.com/  "
      ]
     },
     "execution_count": 105,
     "metadata": {},
     "output_type": "execute_result"
    }
   ],
   "source": [
    "df.head()"
   ]
  },
  {
   "cell_type": "code",
   "execution_count": 95,
   "metadata": {
    "collapsed": true
   },
   "outputs": [],
   "source": [
    "df.to_csv('data/usnpl_newspapers.csv', index=False)"
   ]
  },
  {
   "cell_type": "markdown",
   "metadata": {},
   "source": [
    "### Getting Twitter User IDs"
   ]
  },
  {
   "cell_type": "code",
   "execution_count": 60,
   "metadata": {
    "collapsed": true
   },
   "outputs": [],
   "source": [
    "import tweepy"
   ]
  },
  {
   "cell_type": "code",
   "execution_count": 61,
   "metadata": {},
   "outputs": [],
   "source": [
    "consumer_key = os.environ.get('TWEEPY_API_KEY')\n",
    "consumer_secret = os.environ.get('TWEEPY_API_SECRET')\n",
    "access_key = os.environ.get('TWEEPY_ACCESS_TOKEN')\n",
    "access_secret = os.environ.get('TWEEPY_TOKEN_SECRET')"
   ]
  },
  {
   "cell_type": "code",
   "execution_count": 63,
   "metadata": {
    "collapsed": true
   },
   "outputs": [],
   "source": [
    "auth = tweepy.OAuthHandler(consumer_key, consumer_secret)\n",
    "auth.set_access_token(access_key, access_secret)\n",
    "api = tweepy.API(auth,\n",
    "                 wait_on_rate_limit=True,\n",
    "                 wait_on_rate_limit_notify=True)"
   ]
  },
  {
   "cell_type": "code",
   "execution_count": 59,
   "metadata": {},
   "outputs": [],
   "source": [
    "twitter_names = df[~df['Twitter_Name'].isnull()]['Twitter_Name']"
   ]
  },
  {
   "cell_type": "code",
   "execution_count": 64,
   "metadata": {},
   "outputs": [],
   "source": [
    "user = api.get_user(twitter_names.iloc[0])"
   ]
  },
  {
   "cell_type": "code",
   "execution_count": 107,
   "metadata": {},
   "outputs": [
    {
     "data": {
      "text/plain": [
       "{'contributors_enabled': False,\n",
       " 'created_at': 'Thu Dec 20 22:51:16 +0000 2012',\n",
       " 'default_profile': False,\n",
       " 'default_profile_image': False,\n",
       " 'description': 'We manage and conserve more than 800 species of wildlife statewide. | Conserving Wildlife~Serving People | Follows and retweets do not imply endorsement.',\n",
       " 'entities': {'description': {'urls': []},\n",
       "  'url': {'urls': [{'display_url': 'wgfd.wyo.gov',\n",
       "     'expanded_url': 'http://wgfd.wyo.gov',\n",
       "     'indices': [0, 22],\n",
       "     'url': 'http://t.co/ru1Gs8tBEq'}]}},\n",
       " 'favourites_count': 298,\n",
       " 'follow_request_sent': False,\n",
       " 'followers_count': 3788,\n",
       " 'following': False,\n",
       " 'friends_count': 676,\n",
       " 'geo_enabled': False,\n",
       " 'has_extended_profile': False,\n",
       " 'id': 1025185082,\n",
       " 'id_str': '1025185082',\n",
       " 'is_translation_enabled': False,\n",
       " 'is_translator': False,\n",
       " 'lang': 'en',\n",
       " 'listed_count': 65,\n",
       " 'location': 'Wyoming - USA',\n",
       " 'name': 'Wyoming Game & Fish',\n",
       " 'notifications': False,\n",
       " 'profile_background_color': '5D7388',\n",
       " 'profile_background_image_url': 'http://pbs.twimg.com/profile_background_images/540188072147570689/af7ramu5.jpeg',\n",
       " 'profile_background_image_url_https': 'https://pbs.twimg.com/profile_background_images/540188072147570689/af7ramu5.jpeg',\n",
       " 'profile_background_tile': False,\n",
       " 'profile_banner_url': 'https://pbs.twimg.com/profile_banners/1025185082/1466458607',\n",
       " 'profile_image_url': 'http://pbs.twimg.com/profile_images/826446705792913410/NJ9ULI2W_normal.jpg',\n",
       " 'profile_image_url_https': 'https://pbs.twimg.com/profile_images/826446705792913410/NJ9ULI2W_normal.jpg',\n",
       " 'profile_link_color': '5D7388',\n",
       " 'profile_location': None,\n",
       " 'profile_sidebar_border_color': '000000',\n",
       " 'profile_sidebar_fill_color': 'DDEEF6',\n",
       " 'profile_text_color': '333333',\n",
       " 'profile_use_background_image': True,\n",
       " 'protected': False,\n",
       " 'screen_name': 'WGFD',\n",
       " 'status': {'contributors': None,\n",
       "  'coordinates': None,\n",
       "  'created_at': 'Mon Feb 19 01:00:01 +0000 2018',\n",
       "  'entities': {'hashtags': [],\n",
       "   'symbols': [],\n",
       "   'urls': [{'display_url': 'twitter.com/i/web/status/9…',\n",
       "     'expanded_url': 'https://twitter.com/i/web/status/965390481667469312',\n",
       "     'indices': [117, 140],\n",
       "     'url': 'https://t.co/GMm5BSVAxw'}],\n",
       "   'user_mentions': []},\n",
       "  'favorite_count': 8,\n",
       "  'favorited': False,\n",
       "  'geo': None,\n",
       "  'id': 965390481667469312,\n",
       "  'id_str': '965390481667469312',\n",
       "  'in_reply_to_screen_name': None,\n",
       "  'in_reply_to_status_id': None,\n",
       "  'in_reply_to_status_id_str': None,\n",
       "  'in_reply_to_user_id': None,\n",
       "  'in_reply_to_user_id_str': None,\n",
       "  'is_quote_status': False,\n",
       "  'lang': 'en',\n",
       "  'place': None,\n",
       "  'possibly_sensitive': False,\n",
       "  'retweet_count': 0,\n",
       "  'retweeted': False,\n",
       "  'source': '<a href=\"https://ads-api.twitter.com\" rel=\"nofollow\">Twitter Ads Composer</a>',\n",
       "  'text': \"Applying for a hunting license soon? Consider purchasing a few Super Tag Raffle tickets while you're at it. One tic… https://t.co/GMm5BSVAxw\",\n",
       "  'truncated': True},\n",
       " 'statuses_count': 1794,\n",
       " 'time_zone': 'Arizona',\n",
       " 'translator_type': 'none',\n",
       " 'url': 'http://t.co/ru1Gs8tBEq',\n",
       " 'utc_offset': -25200,\n",
       " 'verified': False}"
      ]
     },
     "execution_count": 107,
     "metadata": {},
     "output_type": "execute_result"
    }
   ],
   "source": [
    "user._json"
   ]
  },
  {
   "cell_type": "code",
   "execution_count": 68,
   "metadata": {
    "collapsed": true
   },
   "outputs": [],
   "source": [
    "from tweepy import TweepError"
   ]
  },
  {
   "cell_type": "code",
   "execution_count": 70,
   "metadata": {},
   "outputs": [
    {
     "data": {
      "application/vnd.jupyter.widget-view+json": {
       "model_id": "599f951ccf2a4b45afa66a231dd02572"
      }
     },
     "metadata": {},
     "output_type": "display_data"
    },
    {
     "name": "stdout",
     "output_type": "stream",
     "text": [
      "Rate limit reached. Sleeping for: 85\n",
      "Rate limit reached. Sleeping for: 500\n",
      "Rate limit reached. Sleeping for: 487\n",
      "Rate limit reached. Sleeping for: 539\n",
      "\n"
     ]
    }
   ],
   "source": [
    "# user_ids = []\n",
    "for screen_name in tqdm(twitter_names[36:]):\n",
    "    try:\n",
    "        user = api.get_user(screen_name=screen_name)\n",
    "        user_id = user.id\n",
    "    except TweepError:\n",
    "        user_id = None\n",
    "        pass\n",
    "    user_ids.append({\n",
    "        'Twitter_ID' : user_id,\n",
    "        'Twitter_Name' : screen_name\n",
    "    })"
   ]
  },
  {
   "cell_type": "code",
   "execution_count": 72,
   "metadata": {
    "collapsed": true
   },
   "outputs": [],
   "source": [
    "df_users = pd.DataFrame(user_ids)"
   ]
  },
  {
   "cell_type": "code",
   "execution_count": 81,
   "metadata": {},
   "outputs": [],
   "source": [
    "df_users['Twitter_ID'] = df_users['Twitter_ID'].astype(str).str.replace('.0','')"
   ]
  },
  {
   "cell_type": "code",
   "execution_count": 82,
   "metadata": {
    "collapsed": true
   },
   "outputs": [],
   "source": [
    "df_users.to_csv('data/twitter_uers.csv', index=False)"
   ]
  },
  {
   "cell_type": "code",
   "execution_count": 108,
   "metadata": {},
   "outputs": [],
   "source": [
    "df_merge = df.merge(df_users, on='Twitter_Name', how='left')[['Name', 'Medium', 'Website', 'Facebook', 'Twitter_Name','Twitter_ID', 'Geography']]\n",
    "df_merge.to_csv('data/usnpl_newspapers_twitter_ids.csv')"
   ]
  },
  {
   "cell_type": "code",
   "execution_count": 109,
   "metadata": {},
   "outputs": [
    {
     "data": {
      "text/html": [
       "<div>\n",
       "<table border=\"1\" class=\"dataframe\">\n",
       "  <thead>\n",
       "    <tr style=\"text-align: right;\">\n",
       "      <th></th>\n",
       "      <th>Name</th>\n",
       "      <th>Medium</th>\n",
       "      <th>Website</th>\n",
       "      <th>Facebook</th>\n",
       "      <th>Twitter_Name</th>\n",
       "      <th>Twitter_ID</th>\n",
       "      <th>Geography</th>\n",
       "    </tr>\n",
       "  </thead>\n",
       "  <tbody>\n",
       "    <tr>\n",
       "      <th>0</th>\n",
       "      <td>Alaska Dispatch News</td>\n",
       "      <td>Newspapers</td>\n",
       "      <td>http://www.adn.com/</td>\n",
       "      <td>https://www.facebook.com/akdispatch</td>\n",
       "      <td>adndotcom</td>\n",
       "      <td>158225</td>\n",
       "      <td>AK</td>\n",
       "    </tr>\n",
       "    <tr>\n",
       "      <th>1</th>\n",
       "      <td>Alaska Journal of Commerce</td>\n",
       "      <td>Newspapers</td>\n",
       "      <td>http://www.alaskajournal.com/</td>\n",
       "      <td>https://www.facebook.com/AlaskaJournal</td>\n",
       "      <td>alaskajournal</td>\n",
       "      <td>341639834</td>\n",
       "      <td>AK</td>\n",
       "    </tr>\n",
       "    <tr>\n",
       "      <th>2</th>\n",
       "      <td>Anchorage Press</td>\n",
       "      <td>Newspapers</td>\n",
       "      <td>http://www.anchoragepress.com/</td>\n",
       "      <td>https://www.facebook.com/anchoragepress</td>\n",
       "      <td>anchoragepress</td>\n",
       "      <td>17761344</td>\n",
       "      <td>AK</td>\n",
       "    </tr>\n",
       "    <tr>\n",
       "      <th>3</th>\n",
       "      <td>Petroleum News</td>\n",
       "      <td>Newspapers</td>\n",
       "      <td>http://www.petroleumnews.com/</td>\n",
       "      <td>https://www.facebook.com/PetroleumNews</td>\n",
       "      <td>None</td>\n",
       "      <td>NaN</td>\n",
       "      <td>AK</td>\n",
       "    </tr>\n",
       "    <tr>\n",
       "      <th>4</th>\n",
       "      <td>Delta Discovery</td>\n",
       "      <td>Newspapers</td>\n",
       "      <td>http://www.deltadiscovery.com/</td>\n",
       "      <td>https://www.facebook.com/deltadiscovery</td>\n",
       "      <td>None</td>\n",
       "      <td>NaN</td>\n",
       "      <td>AK</td>\n",
       "    </tr>\n",
       "  </tbody>\n",
       "</table>\n",
       "</div>"
      ],
      "text/plain": [
       "                         Name      Medium                         Website  \\\n",
       "0        Alaska Dispatch News  Newspapers             http://www.adn.com/   \n",
       "1  Alaska Journal of Commerce  Newspapers   http://www.alaskajournal.com/   \n",
       "2            Anchorage Press   Newspapers  http://www.anchoragepress.com/   \n",
       "3              Petroleum News  Newspapers   http://www.petroleumnews.com/   \n",
       "4             Delta Discovery  Newspapers  http://www.deltadiscovery.com/   \n",
       "\n",
       "                                  Facebook    Twitter_Name Twitter_ID  \\\n",
       "0      https://www.facebook.com/akdispatch       adndotcom     158225   \n",
       "1   https://www.facebook.com/AlaskaJournal   alaskajournal  341639834   \n",
       "2  https://www.facebook.com/anchoragepress  anchoragepress   17761344   \n",
       "3   https://www.facebook.com/PetroleumNews            None        NaN   \n",
       "4  https://www.facebook.com/deltadiscovery            None        NaN   \n",
       "\n",
       "  Geography  \n",
       "0        AK  \n",
       "1        AK  \n",
       "2        AK  \n",
       "3        AK  \n",
       "4        AK  "
      ]
     },
     "execution_count": 109,
     "metadata": {},
     "output_type": "execute_result"
    }
   ],
   "source": [
    "df_merge.head()"
   ]
  },
  {
   "cell_type": "markdown",
   "metadata": {},
   "source": [
    "# Development"
   ]
  },
  {
   "cell_type": "code",
   "execution_count": 9,
   "metadata": {},
   "outputs": [],
   "source": [
    "state = 'ma'\n",
    "url = 'http://www.usnpl.com/{}news.php'.format(state)"
   ]
  },
  {
   "cell_type": "code",
   "execution_count": 10,
   "metadata": {
    "collapsed": true
   },
   "outputs": [],
   "source": [
    "r = requests.get(url)"
   ]
  },
  {
   "cell_type": "code",
   "execution_count": 11,
   "metadata": {
    "collapsed": true
   },
   "outputs": [],
   "source": [
    "soup = BeautifulSoup(r.content, 'lxml')"
   ]
  },
  {
   "cell_type": "code",
   "execution_count": 12,
   "metadata": {
    "collapsed": true
   },
   "outputs": [],
   "source": [
    "data_possibilities = soup.find_all('div' ,{\"id\" : 'data_box'})"
   ]
  },
  {
   "cell_type": "code",
   "execution_count": 14,
   "metadata": {
    "scrolled": true
   },
   "outputs": [
    {
     "data": {
      "text/plain": [
       "<div id=\"data_box\">\n",
       "<h3>Magazines</h3>\n",
       "<br/>\n",
       "<!DOCTYPE html PUBLIC \"-//W3C//DTD XHTML 1.0 Transitional//EN\" \"http://www.w3.org/TR/xhtml1/DTD/xhtml1-transitional.dtd\">\n",
       "\n",
       "<meta content=\"text/html; charset=utf-8\" http-equiv=\"Content-Type\"/>\n",
       "<title>Untitled Document</title>\n",
       "<b>Boston</b>\n",
       "&amp;nbsp<a href=\"http://www.bostonmagazine.com/\">Boston Magazine</a>\n",
       "\n",
       "(<a href=\"https://www.facebook.com/bostonmagazine\">F</a>)\n",
       "(<a href=\"http://www.twitter.com/BostonMagazine\">T</a>)\n",
       "(<a href=\"http://www.youtube.com/user/TheBostonMagazine\">V</a>)\n",
       "\n",
       "<br/>\n",
       "<b>Boston</b>\n",
       "&amp;nbsp<a href=\"http://www.boston-online.com/\">Boston Online</a>\n",
       "<br/>\n",
       "<b>Boston</b>\n",
       "&amp;nbsp<a href=\"http://stuffboston.com/\">Stuff Magazine</a>\n",
       "\n",
       "(<a href=\"https://www.facebook.com/StuffMagazine\">F</a>)\n",
       "(<a href=\"http://www.twitter.com/StuffNightlife\">T</a>)\n",
       "\n",
       "\n",
       "<br/>\n",
       "<b>Cape Cod</b>\n",
       "&amp;nbsp<a href=\"http://capecodlife.com/\">Cape Cod Life Mag</a>\n",
       "\n",
       "(<a href=\"https://www.facebook.com/capecodlife\">F</a>)\n",
       "(<a href=\"http://www.twitter.com/capecodlife\">T</a>)\n",
       "(<a href=\"http://www.youtube.com/user/capecodlifepub\">V</a>)\n",
       "\n",
       "<br/>\n",
       "<b>Springfield</b>\n",
       "&amp;nbsp<a href=\"http://www.lionessmagazine.com/\">Lioness Magazine</a>\n",
       "\n",
       "(<a href=\"https://www.facebook.com/LionessMagazine\">F</a>)\n",
       "(<a href=\"http://www.twitter.com/thelionessgroup\">T</a>)\n",
       "\n",
       "\n",
       "<br/>\n",
       "<b>Statewide</b>\n",
       "&amp;nbsp<a href=\"http://www.baystateparent.com/\">Bay State Parent</a>\n",
       "\n",
       "(<a href=\"https://www.facebook.com/baystateparent\">F</a>)\n",
       "(<a href=\"http://www.twitter.com/baystateparent\">T</a>)\n",
       "(<a href=\"http://www.youtube.com/user/baystateparent\">V</a>)\n",
       "\n",
       "<br/>\n",
       "<b>Statewide</b>\n",
       "&amp;nbsp<a href=\"http://hceronline.org/\">Harvard Economics Review</a>\n",
       "\n",
       "(<a href=\"https://www.facebook.com/HarvardEconomicsReview\">F</a>)\n",
       "(<a href=\"http://www.twitter.com/hceronline\">T</a>)\n",
       "\n",
       "\n",
       "<br/>\n",
       "<b>Statewide</b>\n",
       "&amp;nbsp<a href=\"http://www.improper.com/\">Improper Boston</a>\n",
       "\n",
       "(<a href=\"https://www.facebook.com/theimproper\">F</a>)\n",
       "(<a href=\"http://www.twitter.com/theimproper\">T</a>)\n",
       "\n",
       "\n",
       "<br/>\n",
       "<b>Statewide</b>\n",
       "&amp;nbsp<a href=\"http://www.visit-massachusetts.com/\">Welcome to Mass!</a>\n",
       "\n",
       "(<a href=\"https://www.facebook.com/VisitNewEnglandFanpage\">F</a>)\n",
       "(<a href=\"http://www.twitter.com/tweetnewengland\">T</a>)\n",
       "\n",
       "\n",
       "<br/>\n",
       "</div>"
      ]
     },
     "execution_count": 14,
     "metadata": {},
     "output_type": "execute_result"
    }
   ],
   "source": [
    "j = 2\n",
    "data_possibilities[j]"
   ]
  },
  {
   "cell_type": "code",
   "execution_count": 16,
   "metadata": {},
   "outputs": [
    {
     "data": {
      "text/plain": [
       "'Magazines'"
      ]
     },
     "execution_count": 16,
     "metadata": {},
     "output_type": "execute_result"
    }
   ],
   "source": [
    "medium = data_possibilities[j].find('h3').text\n",
    "medium"
   ]
  },
  {
   "cell_type": "code",
   "execution_count": 90,
   "metadata": {},
   "outputs": [
    {
     "data": {
      "text/plain": [
       "'Boston'"
      ]
     },
     "execution_count": 90,
     "metadata": {},
     "output_type": "execute_result"
    }
   ],
   "source": [
    "BeautifulSoup('\\n<b>Boston</b>\\r\\n&amp;nbsp<a href=\"http://www.bostonmagazine.com/\">Boston Magazine</a>\\r\\n\\r\\n(<a href=\"https://www.facebook.com/bostonmagazine\">F</a>)\\r\\n(<a href=\"http://www.twitter.com/BostonMagazine\">T</a>)\\r\\n(<a href=\"http://www.youtube.com/user/TheBostonMagazine\">V</a>)\\r\\n\\r\\n<br/>\\n<b>Boston</b>\\r\\n&amp;nbsp<a href=\"http://www.boston-online.com/\">Boston Online</a>\\n<br/>\\n<b>Boston</b>\\r\\n&amp;nbsp<a href=\"http://stuffboston.com/\">Stuff Magazine</a>\\r\\n\\r\\n(<a href=\"https://www.facebook.com/StuffMagazine\">F</a>)\\r\\n(<a href=\"http://www.twitter.com/StuffNightlife\">T</a>)', 'lxml').find('b').text"
   ]
  },
  {
   "cell_type": "code",
   "execution_count": 87,
   "metadata": {},
   "outputs": [
    {
     "data": {
      "text/plain": [
       "'\\n</div>'"
      ]
     },
     "execution_count": 87,
     "metadata": {},
     "output_type": "execute_result"
    }
   ],
   "source": [
    "data_table"
   ]
  },
  {
   "cell_type": "code",
   "execution_count": 23,
   "metadata": {},
   "outputs": [
    {
     "data": {
      "text/plain": [
       "['\\n<b>Boston</b>\\r\\n&amp;nbsp<a href=\"http://www.bostonmagazine.com/\">Boston Magazine</a>\\r\\n\\r\\n(<a href=\"https://www.facebook.com/bostonmagazine\">F</a>)\\r\\n(<a href=\"http://www.twitter.com/BostonMagazine\">T</a>)\\r\\n(<a href=\"http://www.youtube.com/user/TheBostonMagazine\">V</a>)\\r\\n\\r\\n<br/>\\n<b>Boston</b>\\r\\n&amp;nbsp<a href=\"http://www.boston-online.com/\">Boston Online</a>\\n<br/>\\n<b>Boston</b>\\r\\n&amp;nbsp<a href=\"http://stuffboston.com/\">Stuff Magazine</a>\\r\\n\\r\\n(<a href=\"https://www.facebook.com/StuffMagazine\">F</a>)\\r\\n(<a href=\"http://www.twitter.com/StuffNightlife\">T</a>)',\n",
       " '<b>Cape Cod</b>\\r\\n&amp;nbsp<a href=\"http://capecodlife.com/\">Cape Cod Life Mag</a>\\r\\n\\r\\n(<a href=\"https://www.facebook.com/capecodlife\">F</a>)\\r\\n(<a href=\"http://www.twitter.com/capecodlife\">T</a>)\\r\\n(<a href=\"http://www.youtube.com/user/capecodlifepub\">V</a>)\\r\\n\\r\\n<br/>\\n<b>Springfield</b>\\r\\n&amp;nbsp<a href=\"http://www.lionessmagazine.com/\">Lioness Magazine</a>\\r\\n\\r\\n(<a href=\"https://www.facebook.com/LionessMagazine\">F</a>)\\r\\n(<a href=\"http://www.twitter.com/thelionessgroup\">T</a>)',\n",
       " '<b>Statewide</b>\\r\\n&amp;nbsp<a href=\"http://www.baystateparent.com/\">Bay State Parent</a>\\r\\n\\r\\n(<a href=\"https://www.facebook.com/baystateparent\">F</a>)\\r\\n(<a href=\"http://www.twitter.com/baystateparent\">T</a>)\\r\\n(<a href=\"http://www.youtube.com/user/baystateparent\">V</a>)\\r\\n\\r\\n<br/>\\n<b>Statewide</b>\\r\\n&amp;nbsp<a href=\"http://hceronline.org/\">Harvard Economics Review</a>\\r\\n\\r\\n(<a href=\"https://www.facebook.com/HarvardEconomicsReview\">F</a>)\\r\\n(<a href=\"http://www.twitter.com/hceronline\">T</a>)',\n",
       " '<b>Statewide</b>\\r\\n&amp;nbsp<a href=\"http://www.improper.com/\">Improper Boston</a>\\r\\n\\r\\n(<a href=\"https://www.facebook.com/theimproper\">F</a>)\\r\\n(<a href=\"http://www.twitter.com/theimproper\">T</a>)',\n",
       " '<b>Statewide</b>\\r\\n&amp;nbsp<a href=\"http://www.visit-massachusetts.com/\">Welcome to Mass!</a>\\r\\n\\r\\n(<a href=\"https://www.facebook.com/VisitNewEnglandFanpage\">F</a>)\\r\\n(<a href=\"http://www.twitter.com/tweetnewengland\">T</a>)',\n",
       " '</div>']"
      ]
     },
     "execution_count": 23,
     "metadata": {},
     "output_type": "execute_result"
    }
   ],
   "source": [
    "str(data_possibilities[j]).split('<title>Untitled Document</title>')[1].split('\\r\\n\\r\\n\\r\\n<br/>\\n')"
   ]
  },
  {
   "cell_type": "code",
   "execution_count": 17,
   "metadata": {
    "collapsed": true
   },
   "outputs": [],
   "source": [
    "data_table = str(data_possibilities[j]).split('<br/><br/>\\n</div>\\n')[0]"
   ]
  },
  {
   "cell_type": "code",
   "execution_count": 26,
   "metadata": {
    "collapsed": true
   },
   "outputs": [],
   "source": [
    "data_table = str(data_possibilities[j]).split('<title>Untitled Document</title>')[1]"
   ]
  },
  {
   "cell_type": "code",
   "execution_count": 25,
   "metadata": {},
   "outputs": [
    {
     "data": {
      "text/plain": [
       "['\\n<b>Boston</b>\\r\\n&amp;nbsp<a href=\"http://www.bostonmagazine.com/\">Boston Magazine</a>\\r\\n\\r\\n(<a href=\"https://www.facebook.com/bostonmagazine\">F</a>)\\r\\n(<a href=\"http://www.twitter.com/BostonMagazine\">T</a>)\\r\\n(<a href=\"http://www.youtube.com/user/TheBostonMagazine\">V</a>)\\r\\n\\r\\n<br/>\\n<b>Boston</b>\\r\\n&amp;nbsp<a href=\"http://www.boston-online.com/\">Boston Online</a>\\n<br/>\\n<b>Boston</b>\\r\\n&amp;nbsp<a href=\"http://stuffboston.com/\">Stuff Magazine</a>\\r\\n\\r\\n(<a href=\"https://www.facebook.com/StuffMagazine\">F</a>)\\r\\n(<a href=\"http://www.twitter.com/StuffNightlife\">T</a>)',\n",
       " '<b>Cape Cod</b>\\r\\n&amp;nbsp<a href=\"http://capecodlife.com/\">Cape Cod Life Mag</a>\\r\\n\\r\\n(<a href=\"https://www.facebook.com/capecodlife\">F</a>)\\r\\n(<a href=\"http://www.twitter.com/capecodlife\">T</a>)\\r\\n(<a href=\"http://www.youtube.com/user/capecodlifepub\">V</a>)\\r\\n\\r\\n<br/>\\n<b>Springfield</b>\\r\\n&amp;nbsp<a href=\"http://www.lionessmagazine.com/\">Lioness Magazine</a>\\r\\n\\r\\n(<a href=\"https://www.facebook.com/LionessMagazine\">F</a>)\\r\\n(<a href=\"http://www.twitter.com/thelionessgroup\">T</a>)',\n",
       " '<b>Statewide</b>\\r\\n&amp;nbsp<a href=\"http://www.baystateparent.com/\">Bay State Parent</a>\\r\\n\\r\\n(<a href=\"https://www.facebook.com/baystateparent\">F</a>)\\r\\n(<a href=\"http://www.twitter.com/baystateparent\">T</a>)\\r\\n(<a href=\"http://www.youtube.com/user/baystateparent\">V</a>)\\r\\n\\r\\n<br/>\\n<b>Statewide</b>\\r\\n&amp;nbsp<a href=\"http://hceronline.org/\">Harvard Economics Review</a>\\r\\n\\r\\n(<a href=\"https://www.facebook.com/HarvardEconomicsReview\">F</a>)\\r\\n(<a href=\"http://www.twitter.com/hceronline\">T</a>)',\n",
       " '<b>Statewide</b>\\r\\n&amp;nbsp<a href=\"http://www.improper.com/\">Improper Boston</a>\\r\\n\\r\\n(<a href=\"https://www.facebook.com/theimproper\">F</a>)\\r\\n(<a href=\"http://www.twitter.com/theimproper\">T</a>)',\n",
       " '<b>Statewide</b>\\r\\n&amp;nbsp<a href=\"http://www.visit-massachusetts.com/\">Welcome to Mass!</a>\\r\\n\\r\\n(<a href=\"https://www.facebook.com/VisitNewEnglandFanpage\">F</a>)\\r\\n(<a href=\"http://www.twitter.com/tweetnewengland\">T</a>)',\n",
       " '</div>']"
      ]
     },
     "execution_count": 25,
     "metadata": {},
     "output_type": "execute_result"
    }
   ],
   "source": [
    "data_table"
   ]
  },
  {
   "cell_type": "code",
   "execution_count": 27,
   "metadata": {
    "collapsed": true
   },
   "outputs": [],
   "source": [
    "entries_to_parse = data_table.rstrip('</div>').split('\\r\\n\\r\\n\\r\\n<br/>\\n')"
   ]
  },
  {
   "cell_type": "code",
   "execution_count": 28,
   "metadata": {},
   "outputs": [
    {
     "data": {
      "text/plain": [
       "['\\n<b>Boston</b>\\r\\n&amp;nbsp<a href=\"http://www.bostonmagazine.com/\">Boston Magazine</a>\\r\\n\\r\\n(<a href=\"https://www.facebook.com/bostonmagazine\">F</a>)\\r\\n(<a href=\"http://www.twitter.com/BostonMagazine\">T</a>)\\r\\n(<a href=\"http://www.youtube.com/user/TheBostonMagazine\">V</a>)\\r\\n\\r\\n<br/>\\n<b>Boston</b>\\r\\n&amp;nbsp<a href=\"http://www.boston-online.com/\">Boston Online</a>\\n<br/>\\n<b>Boston</b>\\r\\n&amp;nbsp<a href=\"http://stuffboston.com/\">Stuff Magazine</a>\\r\\n\\r\\n(<a href=\"https://www.facebook.com/StuffMagazine\">F</a>)\\r\\n(<a href=\"http://www.twitter.com/StuffNightlife\">T</a>)',\n",
       " '<b>Cape Cod</b>\\r\\n&amp;nbsp<a href=\"http://capecodlife.com/\">Cape Cod Life Mag</a>\\r\\n\\r\\n(<a href=\"https://www.facebook.com/capecodlife\">F</a>)\\r\\n(<a href=\"http://www.twitter.com/capecodlife\">T</a>)\\r\\n(<a href=\"http://www.youtube.com/user/capecodlifepub\">V</a>)\\r\\n\\r\\n<br/>\\n<b>Springfield</b>\\r\\n&amp;nbsp<a href=\"http://www.lionessmagazine.com/\">Lioness Magazine</a>\\r\\n\\r\\n(<a href=\"https://www.facebook.com/LionessMagazine\">F</a>)\\r\\n(<a href=\"http://www.twitter.com/thelionessgroup\">T</a>)',\n",
       " '<b>Statewide</b>\\r\\n&amp;nbsp<a href=\"http://www.baystateparent.com/\">Bay State Parent</a>\\r\\n\\r\\n(<a href=\"https://www.facebook.com/baystateparent\">F</a>)\\r\\n(<a href=\"http://www.twitter.com/baystateparent\">T</a>)\\r\\n(<a href=\"http://www.youtube.com/user/baystateparent\">V</a>)\\r\\n\\r\\n<br/>\\n<b>Statewide</b>\\r\\n&amp;nbsp<a href=\"http://hceronline.org/\">Harvard Economics Review</a>\\r\\n\\r\\n(<a href=\"https://www.facebook.com/HarvardEconomicsReview\">F</a>)\\r\\n(<a href=\"http://www.twitter.com/hceronline\">T</a>)',\n",
       " '<b>Statewide</b>\\r\\n&amp;nbsp<a href=\"http://www.improper.com/\">Improper Boston</a>\\r\\n\\r\\n(<a href=\"https://www.facebook.com/theimproper\">F</a>)\\r\\n(<a href=\"http://www.twitter.com/theimproper\">T</a>)',\n",
       " '<b>Statewide</b>\\r\\n&amp;nbsp<a href=\"http://www.visit-massachusetts.com/\">Welcome to Mass!</a>\\r\\n\\r\\n(<a href=\"https://www.facebook.com/VisitNewEnglandFanpage\">F</a>)\\r\\n(<a href=\"http://www.twitter.com/tweetnewengland\">T</a>)',\n",
       " '']"
      ]
     },
     "execution_count": 28,
     "metadata": {},
     "output_type": "execute_result"
    }
   ],
   "source": [
    "entries_to_parse"
   ]
  },
  {
   "cell_type": "code",
   "execution_count": 18,
   "metadata": {},
   "outputs": [
    {
     "data": {
      "text/plain": [
       "'<div id=\"data_box\">\\n<h3>Magazines</h3>\\n<br/>\\n<!DOCTYPE html PUBLIC \"-//W3C//DTD XHTML 1.0 Transitional//EN\" \"http://www.w3.org/TR/xhtml1/DTD/xhtml1-transitional.dtd\">\\n\\n<meta content=\"text/html; charset=utf-8\" http-equiv=\"Content-Type\"/>\\n<title>Untitled Document</title>\\n<b>Boston</b>\\r\\n&amp;nbsp<a href=\"http://www.bostonmagazine.com/\">Boston Magazine</a>\\r\\n\\r\\n(<a href=\"https://www.facebook.com/bostonmagazine\">F</a>)\\r\\n(<a href=\"http://www.twitter.com/BostonMagazine\">T</a>)\\r\\n(<a href=\"http://www.youtube.com/user/TheBostonMagazine\">V</a>)\\r\\n\\r\\n<br/>\\n<b>Boston</b>\\r\\n&amp;nbsp<a href=\"http://www.boston-online.com/\">Boston Online</a>\\n<br/>\\n<b>Boston</b>\\r\\n&amp;nbsp<a href=\"http://stuffboston.com/\">Stuff Magazine</a>\\r\\n\\r\\n(<a href=\"https://www.facebook.com/StuffMagazine\">F</a>)\\r\\n(<a href=\"http://www.twitter.com/StuffNightlife\">T</a>)\\r\\n\\r\\n\\r\\n<br/>\\n<b>Cape Cod</b>\\r\\n&amp;nbsp<a href=\"http://capecodlife.com/\">Cape Cod Life Mag</a>\\r\\n\\r\\n(<a href=\"https://www.facebook.com/capecodlife\">F</a>)\\r\\n(<a href=\"http://www.twitter.com/capecodlife\">T</a>)\\r\\n(<a href=\"http://www.youtube.com/user/capecodlifepub\">V</a>)\\r\\n\\r\\n<br/>\\n<b>Springfield</b>\\r\\n&amp;nbsp<a href=\"http://www.lionessmagazine.com/\">Lioness Magazine</a>\\r\\n\\r\\n(<a href=\"https://www.facebook.com/LionessMagazine\">F</a>)\\r\\n(<a href=\"http://www.twitter.com/thelionessgroup\">T</a>)\\r\\n\\r\\n\\r\\n<br/>\\n<b>Statewide</b>\\r\\n&amp;nbsp<a href=\"http://www.baystateparent.com/\">Bay State Parent</a>\\r\\n\\r\\n(<a href=\"https://www.facebook.com/baystateparent\">F</a>)\\r\\n(<a href=\"http://www.twitter.com/baystateparent\">T</a>)\\r\\n(<a href=\"http://www.youtube.com/user/baystateparent\">V</a>)\\r\\n\\r\\n<br/>\\n<b>Statewide</b>\\r\\n&amp;nbsp<a href=\"http://hceronline.org/\">Harvard Economics Review</a>\\r\\n\\r\\n(<a href=\"https://www.facebook.com/HarvardEconomicsReview\">F</a>)\\r\\n(<a href=\"http://www.twitter.com/hceronline\">T</a>)\\r\\n\\r\\n\\r\\n<br/>\\n<b>Statewide</b>\\r\\n&amp;nbsp<a href=\"http://www.improper.com/\">Improper Boston</a>\\r\\n\\r\\n(<a href=\"https://www.facebook.com/theimproper\">F</a>)\\r\\n(<a href=\"http://www.twitter.com/theimproper\">T</a>)\\r\\n\\r\\n\\r\\n<br/>\\n<b>Statewide</b>\\r\\n&amp;nbsp<a href=\"http://www.visit-massachusetts.com/\">Welcome to Mass!</a>\\r\\n\\r\\n(<a href=\"https://www.facebook.com/VisitNewEnglandFanpage\">F</a>)\\r\\n(<a href=\"http://www.twitter.com/tweetnewengland\">T</a>)\\r\\n\\r\\n\\r\\n<br/>\\n</div>'"
      ]
     },
     "execution_count": 18,
     "metadata": {},
     "output_type": "execute_result"
    }
   ],
   "source": [
    "data_table"
   ]
  },
  {
   "cell_type": "code",
   "execution_count": 215,
   "metadata": {
    "collapsed": true
   },
   "outputs": [],
   "source": [
    "entries_to_parse = data_table.rstrip('</div>').split('\\n\\n\\n<br/>\\n')"
   ]
  },
  {
   "cell_type": "code",
   "execution_count": 33,
   "metadata": {
    "collapsed": true
   },
   "outputs": [],
   "source": [
    "from tqdm import tqdm_notebook as tqdm"
   ]
  },
  {
   "cell_type": "code",
   "execution_count": 218,
   "metadata": {},
   "outputs": [
    {
     "data": {
      "application/vnd.jupyter.widget-view+json": {
       "model_id": "0da00353827642d99468ba23da96b46b"
      }
     },
     "metadata": {},
     "output_type": "display_data"
    },
    {
     "name": "stdout",
     "output_type": "stream",
     "text": [
      "\n"
     ]
    }
   ],
   "source": [
    "sites = []\n",
    "for row in tqdm(entries_to_parse):\n",
    "    if row:\n",
    "        entry = parse_row(BeautifulSoup(row, 'lxml'))\n",
    "        entry['state'] = state.upper()\n",
    "        entry['medium'] = medium\n",
    "        sites.append(entry)"
   ]
  },
  {
   "cell_type": "code",
   "execution_count": 204,
   "metadata": {},
   "outputs": [
    {
     "data": {
      "text/plain": [
       "''"
      ]
     },
     "execution_count": 204,
     "metadata": {},
     "output_type": "execute_result"
    }
   ],
   "source": [
    "row"
   ]
  },
  {
   "cell_type": "code",
   "execution_count": 219,
   "metadata": {},
   "outputs": [
    {
     "data": {
      "text/plain": [
       "[{'facebook': 'https://www.facebook.com/pages/RocklandStandard-AbingtonMariner/318350324875505',\n",
       "  'medium': 'Newspapers',\n",
       "  'name': 'Abington Mariner',\n",
       "  'state': 'MA',\n",
       "  'twitter': 'WickedLocal',\n",
       "  'website': 'http://abington.wickedlocal.com/'},\n",
       " {'facebook': 'https://www.facebook.com/pages/Wicked-Local-Allston-Brighton-Tab/145430755517003',\n",
       "  'medium': 'Newspapers',\n",
       "  'name': 'Allston-Brighton TAB',\n",
       "  'state': 'MA',\n",
       "  'twitter': 'amesbury_news',\n",
       "  'website': 'http://allston.wickedlocal.com/'},\n",
       " {'facebook': 'https://www.facebook.com/AndoverTownsman',\n",
       "  'medium': 'Newspapers',\n",
       "  'name': 'Andover Townsman',\n",
       "  'state': 'MA',\n",
       "  'twitter': 'AndoverTownsman',\n",
       "  'website': 'http://www.andovertownsman.com/'},\n",
       " {'facebook': 'https://www.facebook.com/pages/Arlington-Advocate/181267248565486',\n",
       "  'medium': 'Newspapers',\n",
       "  'name': 'Arlington Advocate',\n",
       "  'state': 'MA',\n",
       "  'twitter': 'the_advocate',\n",
       "  'website': 'http://arlington.wickedlocal.com/'},\n",
       " {'facebook': 'https://www.facebook.com/atholdailynews',\n",
       "  'medium': 'Newspapers',\n",
       "  'name': 'Athol Daily News',\n",
       "  'state': 'MA',\n",
       "  'twitter': 'thesunchronicle',\n",
       "  'website': 'http://www.atholdailynews.com/'},\n",
       " {'facebook': 'https://www.facebook.com/pages/Wicked-Local/119311408344',\n",
       "  'medium': 'Newspapers',\n",
       "  'name': 'Avon Messenger',\n",
       "  'state': 'MA',\n",
       "  'twitter': 'WickedLocal',\n",
       "  'website': 'http://avon.wickedlocal.com/'},\n",
       " {'facebook': 'https://www.facebook.com/NashobaValleyVoice',\n",
       "  'medium': 'Newspapers',\n",
       "  'name': 'Nashoba Valley Voice',\n",
       "  'state': 'MA',\n",
       "  'twitter': 'NashobaValVoice',\n",
       "  'website': 'http://www.nashobavalleyvoice.com/'},\n",
       " {'facebook': 'https://www.facebook.com/enterprisenewspapers',\n",
       "  'medium': 'Newspapers',\n",
       "  'name': 'Barnstable Enterprise',\n",
       "  'state': 'MA',\n",
       "  'twitter': 'capenewsdotnet',\n",
       "  'website': 'http://www.capenews.net/'},\n",
       " {'facebook': 'https://www.facebook.com/pages/Wicked-Local/119311408344',\n",
       "  'medium': 'Newspapers',\n",
       "  'name': 'Register',\n",
       "  'state': 'MA',\n",
       "  'twitter': 'WickedLocal',\n",
       "  'website': 'http://barnstable.wickedlocal.com/'},\n",
       " {'facebook': 'https://www.facebook.com/pages/Wicked-Local/119311408344',\n",
       "  'medium': 'Newspapers',\n",
       "  'name': 'Wicked Local Berkley',\n",
       "  'state': 'MA',\n",
       "  'twitter': 'WickedLocal',\n",
       "  'website': 'http://berkley.wickedlocal.com/'},\n",
       " {'facebook': 'https://www.facebook.com/pages/Beverly-Citizen/121434541213830',\n",
       "  'medium': 'Newspapers',\n",
       "  'name': 'Beverly Citizen',\n",
       "  'state': 'MA',\n",
       "  'twitter': 'BeverlyCitizen',\n",
       "  'website': 'http://beverly.wickedlocal.com/'},\n",
       " {'facebook': None,\n",
       "  'medium': 'Newspapers',\n",
       "  'name': 'Beacon Hill Times',\n",
       "  'state': 'MA',\n",
       "  'twitter': None,\n",
       "  'website': 'http://beaconhilltimes.com/'},\n",
       " {'facebook': 'https://www.facebook.com/BostonBulletin/',\n",
       "  'medium': 'Newspapers',\n",
       "  'name': 'Boston Bulletin',\n",
       "  'state': 'MA',\n",
       "  'twitter': None,\n",
       "  'website': 'http://www.bulletinnewspapers.com/23532/s/boston'},\n",
       " {'facebook': 'https://www.facebook.com/BostonBusinessJournal',\n",
       "  'medium': 'Newspapers',\n",
       "  'name': 'Boston Business Journal',\n",
       "  'state': 'MA',\n",
       "  'twitter': 'BosBizJournal',\n",
       "  'website': 'http://www.bizjournals.com/boston/'},\n",
       " {'facebook': 'https://www.facebook.com/boston',\n",
       "  'medium': 'Newspapers',\n",
       "  'name': 'Boston.com Neighborhoods',\n",
       "  'state': 'MA',\n",
       "  'twitter': 'BostonAngela',\n",
       "  'website': 'http://www.boston.com/section/news'},\n",
       " {'facebook': 'https://www.facebook.com/ChristianScienceMonitor',\n",
       "  'medium': 'Newspapers',\n",
       "  'name': 'Christian Science Monitor',\n",
       "  'state': 'MA',\n",
       "  'twitter': 'csmonitor',\n",
       "  'website': 'http://www.csmonitor.com/'},\n",
       " {'facebook': 'https://www.facebook.com/elmundoboston',\n",
       "  'medium': 'Newspapers',\n",
       "  'name': 'El Mundo Boston',\n",
       "  'state': 'MA',\n",
       "  'twitter': 'ELMUNDOBoston',\n",
       "  'website': 'http://elmundoboston.com/'},\n",
       " {'facebook': None,\n",
       "  'medium': 'Newspapers',\n",
       "  'name': 'Hyde Park Bulletin',\n",
       "  'state': 'MA',\n",
       "  'twitter': None,\n",
       "  'website': 'http://www.bulletinnewspapers.com/23469/s/hyde-park'},\n",
       " {'facebook': None,\n",
       "  'medium': 'Newspapers',\n",
       "  'name': 'North End Regional Review',\n",
       "  'state': 'MA',\n",
       "  'twitter': None,\n",
       "  'website': 'http://www.northendregionalreview.com/'},\n",
       " {'facebook': 'https://www.facebook.com/pages/Wicked-Local/119311408344',\n",
       "  'medium': 'Newspapers',\n",
       "  'name': 'Roslindale Transcript',\n",
       "  'state': 'MA',\n",
       "  'twitter': 'WickedLocal',\n",
       "  'website': 'http://roslindale.wickedlocal.com/'},\n",
       " {'facebook': None,\n",
       "  'medium': 'Newspapers',\n",
       "  'name': 'TechFlash',\n",
       "  'state': 'MA',\n",
       "  'twitter': None,\n",
       "  'website': 'http://www.bizjournals.com/boston/blog/techflash'},\n",
       " {'facebook': None,\n",
       "  'medium': 'Newspapers',\n",
       "  'name': 'West Roxbury Bulletin',\n",
       "  'state': 'MA',\n",
       "  'twitter': None,\n",
       "  'website': 'http://www.bulletinnewspapers.com/23511/s/west-roxbury-roslindale'},\n",
       " {'facebook': 'https://www.facebook.com/pages/Parkway-Transcripts/289285367802577',\n",
       "  'medium': 'Newspapers',\n",
       "  'name': 'West Roxbury Transcript',\n",
       "  'state': 'MA',\n",
       "  'twitter': 'WickedLocal',\n",
       "  'website': 'http://west-roxbury.wickedlocal.com/'},\n",
       " {'facebook': 'https://www.facebook.com/pages/The-Acton-Boxborough-Beacon/115175621856553',\n",
       "  'medium': 'Newspapers',\n",
       "  'name': 'Boxborough Beacon',\n",
       "  'state': 'MA',\n",
       "  'twitter': 'actonbeacon',\n",
       "  'website': 'http://boxborough.wickedlocal.com/'},\n",
       " {'facebook': 'https://www.facebook.com/pages/Braintree-Forum/186990061381338',\n",
       "  'medium': 'Newspapers',\n",
       "  'name': 'Braintree Forum',\n",
       "  'state': 'MA',\n",
       "  'twitter': 'braintreepaper',\n",
       "  'website': 'http://braintree.wickedlocal.com/'},\n",
       " {'facebook': 'https://www.facebook.com/canton.journal',\n",
       "  'medium': 'Newspapers',\n",
       "  'name': 'Canton Journal',\n",
       "  'state': 'MA',\n",
       "  'twitter': 'CantonJournal',\n",
       "  'website': 'http://canton.wickedlocal.com/'},\n",
       " {'facebook': 'https://www.facebook.com/CarverReporter',\n",
       "  'medium': 'Newspapers',\n",
       "  'name': 'Carver Reporter',\n",
       "  'state': 'MA',\n",
       "  'twitter': 'carverreporter',\n",
       "  'website': 'http://carver.wickedlocal.com/'},\n",
       " {'facebook': 'https://www.facebook.com/pages/Cape-Cod-Chronicle/115984107596',\n",
       "  'medium': 'Newspapers',\n",
       "  'name': 'Cape Cod Chronicle',\n",
       "  'state': 'MA',\n",
       "  'twitter': 'CCCNewsroom',\n",
       "  'website': 'http://www.capecodchronicle.com/'},\n",
       " {'facebook': 'https://www.facebook.com/ReminderPublications',\n",
       "  'medium': 'Newspapers',\n",
       "  'name': 'Chicopee Herald Weekly',\n",
       "  'state': 'MA',\n",
       "  'twitter': 'TheReminderMA',\n",
       "  'website': 'http://thereminder.com/localnews/chicopee/'},\n",
       " {'facebook': 'https://www.facebook.com/pages/Wicked-Local-DoverSherborn/100592563355005',\n",
       "  'medium': 'Newspapers',\n",
       "  'name': 'Dover-Sherborn Press',\n",
       "  'state': 'MA',\n",
       "  'twitter': 'DoverSherborn',\n",
       "  'website': 'http://dover.wickedlocal.com/'},\n",
       " {'facebook': 'https://www.facebook.com/pages/Wicked-Local-Bridgewater/157661724283844',\n",
       "  'medium': 'Newspapers',\n",
       "  'name': 'Enterprise',\n",
       "  'state': 'MA',\n",
       "  'twitter': 'WickedLocal',\n",
       "  'website': 'http://bridgewatereast.wickedlocal.com/'},\n",
       " {'facebook': 'https://www.facebook.com/HNNow',\n",
       "  'medium': 'Newspapers',\n",
       "  'name': 'Herald News',\n",
       "  'state': 'MA',\n",
       "  'twitter': 'hnnow',\n",
       "  'website': 'http://www.heraldnews.com/'},\n",
       " {'facebook': 'https://www.facebook.com/SentinelandEnterprise',\n",
       "  'medium': 'Newspapers',\n",
       "  'name': 'Sentinel & Enterprise',\n",
       "  'state': 'MA',\n",
       "  'twitter': 'sentandent',\n",
       "  'website': 'http://www.sentinelandenterprise.com/'},\n",
       " {'facebook': 'https://www.facebook.com/pages/Wicked-Local/119311408344',\n",
       "  'medium': 'Newspapers',\n",
       "  'name': 'Framingham TAB',\n",
       "  'state': 'MA',\n",
       "  'twitter': 'framinghamtab',\n",
       "  'website': 'http://framingham.wickedlocal.com/'},\n",
       " {'facebook': 'https://www.facebook.com/CountryGazette',\n",
       "  'medium': 'Newspapers',\n",
       "  'name': 'Country Gazette',\n",
       "  'state': 'MA',\n",
       "  'twitter': 'CountryGazette',\n",
       "  'website': 'http://franklin.wickedlocal.com/'},\n",
       " {'facebook': 'https://www.facebook.com/thegardnernews',\n",
       "  'medium': 'Newspapers',\n",
       "  'name': 'Gardner News',\n",
       "  'state': 'MA',\n",
       "  'twitter': 'GtownRecord',\n",
       "  'website': 'http://thegardnernews.com/'},\n",
       " {'facebook': 'https://www.facebook.com/pages/The-Recorder/326310256952',\n",
       "  'medium': 'Newspapers',\n",
       "  'name': 'Recorder',\n",
       "  'state': 'MA',\n",
       "  'twitter': 'TheRecorderNews',\n",
       "  'website': 'http://www.recorder.com/'},\n",
       " {'facebook': 'https://www.facebook.com/hpreporter',\n",
       "  'medium': 'Newspapers',\n",
       "  'name': 'Halifax-Plympton Reporter',\n",
       "  'state': 'MA',\n",
       "  'twitter': 'WickedLocal',\n",
       "  'website': 'http://halifax.wickedlocal.com/'},\n",
       " {'facebook': 'https://www.facebook.com/pages/Harvard-Post/140334902657904',\n",
       "  'medium': 'Newspapers',\n",
       "  'name': 'Harvard Post',\n",
       "  'state': 'MA',\n",
       "  'twitter': 'WickedLocal',\n",
       "  'website': 'http://harvard.wickedlocal.com/'},\n",
       " {'facebook': None,\n",
       "  'medium': 'Newspapers',\n",
       "  'name': 'Haverhill Gazette',\n",
       "  'state': 'MA',\n",
       "  'twitter': None,\n",
       "  'website': 'http://www.hgazette.com/'},\n",
       " {'facebook': 'https://www.facebook.com/WickedLocalHingham',\n",
       "  'medium': 'Newspapers',\n",
       "  'name': 'Hingham Journal',\n",
       "  'state': 'MA',\n",
       "  'twitter': 'hinghamjournal',\n",
       "  'website': 'http://hingham.wickedlocal.com/'},\n",
       " {'facebook': 'https://www.facebook.com/HollistonTAB',\n",
       "  'medium': 'Newspapers',\n",
       "  'name': 'Holliston TAB',\n",
       "  'state': 'MA',\n",
       "  'twitter': 'WickedLocal',\n",
       "  'website': 'http://holliston.wickedlocal.com/'},\n",
       " {'facebook': 'https://www.facebook.com/HolyokeSun',\n",
       "  'medium': 'Newspapers',\n",
       "  'name': 'Holyoke Sun',\n",
       "  'state': 'MA',\n",
       "  'twitter': None,\n",
       "  'website': 'http://sun.turley.com/'},\n",
       " {'facebook': None,\n",
       "  'medium': 'Newspapers',\n",
       "  'name': 'Hopedale Town News',\n",
       "  'state': 'MA',\n",
       "  'twitter': None,\n",
       "  'website': 'http://www.localtownpages.com/town/hopedale'},\n",
       " {'facebook': 'https://www.facebook.com/pages/Wicked-Local/119311408344',\n",
       "  'medium': 'Newspapers',\n",
       "  'name': 'Wicked Local Hopedale',\n",
       "  'state': 'MA',\n",
       "  'twitter': 'WickedLocal',\n",
       "  'website': 'http://hopedale.wickedlocal.com/'},\n",
       " {'facebook': 'https://www.facebook.com/CountryJournal',\n",
       "  'medium': 'Newspapers',\n",
       "  'name': 'Country Journal',\n",
       "  'state': 'MA',\n",
       "  'twitter': None,\n",
       "  'website': 'http://countryjournal.turley.com/'},\n",
       " {'facebook': 'https://www.facebook.com/barnstablepatriot',\n",
       "  'medium': 'Newspapers',\n",
       "  'name': 'Barnstable Patriot',\n",
       "  'state': 'MA',\n",
       "  'twitter': 'BarnPat',\n",
       "  'website': 'http://www.barnstablepatriot.com/'},\n",
       " {'facebook': 'https://www.facebook.com/KingstonReporter',\n",
       "  'medium': 'Newspapers',\n",
       "  'name': 'Kingston Reporter',\n",
       "  'state': 'MA',\n",
       "  'twitter': 'kingstonreport',\n",
       "  'website': 'http://kingston.wickedlocal.com/'},\n",
       " {'facebook': 'https://www.facebook.com/LudlowRegister',\n",
       "  'medium': 'Newspapers',\n",
       "  'name': 'Ludlow Register',\n",
       "  'state': 'MA',\n",
       "  'twitter': None,\n",
       "  'website': 'http://register.turley.com/'},\n",
       " {'facebook': 'https://www.facebook.com/DailyItem',\n",
       "  'medium': 'Newspapers',\n",
       "  'name': 'Daily Evening Item',\n",
       "  'state': 'MA',\n",
       "  'twitter': 'itemlive',\n",
       "  'website': 'http://www.itemlive.com/'},\n",
       " {'facebook': None,\n",
       "  'medium': 'Newspapers',\n",
       "  'name': 'Malden Evening News',\n",
       "  'state': 'MA',\n",
       "  'twitter': 'maldennews',\n",
       "  'website': 'http://www.maldennews.com/'},\n",
       " {'facebook': 'https://www.facebook.com/MaldenObserver',\n",
       "  'medium': 'Newspapers',\n",
       "  'name': 'Malden Observer',\n",
       "  'state': 'MA',\n",
       "  'twitter': 'maldenobserver',\n",
       "  'website': 'http://malden.wickedlocal.com/'},\n",
       " {'facebook': 'https://www.facebook.com/pages/Wicked-Local/119311408344',\n",
       "  'medium': 'Newspapers',\n",
       "  'name': 'Wicked Local Manchester',\n",
       "  'state': 'MA',\n",
       "  'twitter': 'WickedLocal',\n",
       "  'website': 'http://manchester.wickedlocal.com/'},\n",
       " {'facebook': 'https://www.facebook.com/MarlboroughEnterprise',\n",
       "  'medium': 'Newspapers',\n",
       "  'name': 'Marlborough Enterprise',\n",
       "  'state': 'MA',\n",
       "  'twitter': 'marlenterprise',\n",
       "  'website': 'http://marlborough.wickedlocal.com/'},\n",
       " {'facebook': 'https://www.facebook.com/tritownsentinel',\n",
       "  'medium': 'Newspapers',\n",
       "  'name': 'Sentinel',\n",
       "  'state': 'MA',\n",
       "  'twitter': 'tritownsentinel',\n",
       "  'website': 'http://mattapoisett.wickedlocal.com/'},\n",
       " {'facebook': 'https://www.facebook.com/beaconvillager',\n",
       "  'medium': 'Newspapers',\n",
       "  'name': 'Beacon-Villager',\n",
       "  'state': 'MA',\n",
       "  'twitter': 'beaconvillager',\n",
       "  'website': 'http://maynard.wickedlocal.com/'},\n",
       " {'facebook': 'https://www.facebook.com/pages/Wicked-Local/119311408344',\n",
       "  'medium': 'Newspapers',\n",
       "  'name': 'Wicked Local Medway',\n",
       "  'state': 'MA',\n",
       "  'twitter': 'WickedLocal',\n",
       "  'website': 'http://medway.wickedlocal.com/'},\n",
       " {'facebook': 'https://www.facebook.com/MiltonTimes',\n",
       "  'medium': 'Newspapers',\n",
       "  'name': 'Milton Times',\n",
       "  'state': 'MA',\n",
       "  'twitter': 'MiltonTimes',\n",
       "  'website': 'http://www.miltontimes.com/'},\n",
       " {'facebook': 'https://www.facebook.com/pages/The-Nantucket-Inquirer-and-Mirror/255864560765',\n",
       "  'medium': 'Newspapers',\n",
       "  'name': 'Inquirer and Mirror',\n",
       "  'state': 'MA',\n",
       "  'twitter': 'InkyM',\n",
       "  'website': 'http://www.ack.net/'},\n",
       " {'facebook': 'https://www.facebook.com/southcoasttoday',\n",
       "  'medium': 'Newspapers',\n",
       "  'name': 'South Coast Today',\n",
       "  'state': 'MA',\n",
       "  'twitter': 'southcoasttoday ',\n",
       "  'website': 'http://www.southcoasttoday.com/'},\n",
       " {'facebook': 'https://www.facebook.com/pages/Daily-News-of-Newburyport/380708820375',\n",
       "  'medium': 'Newspapers',\n",
       "  'name': 'Daily News',\n",
       "  'state': 'MA',\n",
       "  'twitter': 'newburyportnews',\n",
       "  'website': 'http://www.newburyportnews.com/'},\n",
       " {'facebook': None,\n",
       "  'medium': 'Newspapers',\n",
       "  'name': 'Local Town Pages',\n",
       "  'state': 'MA',\n",
       "  'twitter': None,\n",
       "  'website': 'http://www.localtownpages.com/town/norfolk-wrentham'},\n",
       " {'facebook': 'https://www.facebook.com/northandovercitizen',\n",
       "  'medium': 'Newspapers',\n",
       "  'name': 'North Andover Citizen',\n",
       "  'state': 'MA',\n",
       "  'twitter': 'NAndoverCitizen',\n",
       "  'website': 'http://northandover.wickedlocal.com/'},\n",
       " {'facebook': 'https://www.facebook.com/NorwoodTranscript',\n",
       "  'medium': 'Newspapers',\n",
       "  'name': 'Transcript and Bulletin',\n",
       "  'state': 'MA',\n",
       "  'twitter': 'NorwoodTranscri',\n",
       "  'website': 'http://norwood.wickedlocal.com/'},\n",
       " {'facebook': 'https://www.facebook.com/pages/Peabody-Lynnfield-Weekly-News/139067302821109',\n",
       "  'medium': 'Newspapers',\n",
       "  'name': 'Peabody Lynnfield Weekly',\n",
       "  'state': 'MA',\n",
       "  'twitter': None,\n",
       "  'website': 'http://www.weeklynews.net/'},\n",
       " {'facebook': 'https://www.facebook.com/pembrokemariner',\n",
       "  'medium': 'Newspapers',\n",
       "  'name': 'Mariner and Express',\n",
       "  'state': 'MA',\n",
       "  'twitter': 'pembrokenews',\n",
       "  'website': 'http://pembroke.wickedlocal.com/'},\n",
       " {'facebook': 'https://www.facebook.com/berkshire.eagle',\n",
       "  'medium': 'Newspapers',\n",
       "  'name': 'Berkshire Eagle',\n",
       "  'state': 'MA',\n",
       "  'twitter': 'berkshireeagle',\n",
       "  'website': 'http://www.berkshireeagle.com/'},\n",
       " {'facebook': 'https://www.facebook.com/OldColonyMemorial',\n",
       "  'medium': 'Newspapers',\n",
       "  'name': 'Old Colony Memorial',\n",
       "  'state': 'MA',\n",
       "  'twitter': 'OldColony',\n",
       "  'website': 'http://plymouth.wickedlocal.com/'},\n",
       " {'facebook': 'https://www.facebook.com/patriotledger',\n",
       "  'medium': 'Newspapers',\n",
       "  'name': 'Patriot Ledger',\n",
       "  'state': 'MA',\n",
       "  'twitter': 'patriotledger',\n",
       "  'website': 'http://www.patriotledger.com/'},\n",
       " {'facebook': 'https://www.facebook.com/randolph.herald',\n",
       "  'medium': 'Newspapers',\n",
       "  'name': 'Randolph Herald',\n",
       "  'state': 'MA',\n",
       "  'twitter': 'Randolph_Herald',\n",
       "  'website': 'http://randolph.wickedlocal.com/'},\n",
       " {'facebook': 'https://www.facebook.com/pages/RocklandStandard-AbingtonMariner/318350324875505',\n",
       "  'medium': 'Newspapers',\n",
       "  'name': 'Rockland Standard',\n",
       "  'state': 'MA',\n",
       "  'twitter': 'WickedLocal',\n",
       "  'website': 'http://rockland.wickedlocal.com/'},\n",
       " {'facebook': 'https://www.facebook.com/pages/Saugus-Advertiser/180558090544',\n",
       "  'medium': 'Newspapers',\n",
       "  'name': 'Saugus Advertiser',\n",
       "  'state': 'MA',\n",
       "  'twitter': 'Saugusnews',\n",
       "  'website': 'http://saugus.wickedlocal.com/'},\n",
       " {'facebook': 'https://www.facebook.com/ShrewsburyChronicle',\n",
       "  'medium': 'Newspapers',\n",
       "  'name': 'Shrewsbury Chronicle',\n",
       "  'state': 'MA',\n",
       "  'twitter': 'WickedLocal',\n",
       "  'website': 'http://shrewsbury.wickedlocal.com/'},\n",
       " {'facebook': 'https://www.facebook.com/pages/Wicked-Local-Somerville/138796856150687',\n",
       "  'medium': 'Newspapers',\n",
       "  'name': 'Somerville Journal',\n",
       "  'state': 'MA',\n",
       "  'twitter': 'VilleJournal',\n",
       "  'website': 'http://somerville.wickedlocal.com/'},\n",
       " {'facebook': 'https://www.facebook.com/thesomervilletimes',\n",
       "  'medium': 'Newspapers',\n",
       "  'name': 'Somerville Times',\n",
       "  'state': 'MA',\n",
       "  'twitter': 'somervilletimes',\n",
       "  'website': 'http://www.thesomervillenews.com/'},\n",
       " {'facebook': 'https://www.facebook.com/NorthboroughSouthboroughVillager',\n",
       "  'medium': 'Newspapers',\n",
       "  'name': 'Southborough Villager',\n",
       "  'state': 'MA',\n",
       "  'twitter': 'WickedLocal',\n",
       "  'website': 'http://southborough.wickedlocal.com/'},\n",
       " {'facebook': 'https://www.facebook.com/SouthwickSuffieldNews',\n",
       "  'medium': 'Newspapers',\n",
       "  'name': 'Southwick Suffield News',\n",
       "  'state': 'MA',\n",
       "  'twitter': None,\n",
       "  'website': 'http://southwicksuffieldnews.turley.com/'},\n",
       " {'facebook': 'https://www.facebook.com/pages/508Local/1542845009313192',\n",
       "  'medium': 'Newspapers',\n",
       "  'name': 'Spencer New Leader',\n",
       "  'state': 'MA',\n",
       "  'twitter': None,\n",
       "  'website': 'http://www.villagernewspapers.com/'},\n",
       " {'facebook': 'https://www.facebook.com/ReminderPublications',\n",
       "  'medium': 'Newspapers',\n",
       "  'name': 'Springfield Reminder',\n",
       "  'state': 'MA',\n",
       "  'twitter': 'TheReminderMA',\n",
       "  'website': 'http://thereminder.com/Localnews/springfield/'},\n",
       " {'facebook': None,\n",
       "  'medium': 'Newspapers',\n",
       "  'name': 'Stoneham Independent',\n",
       "  'state': 'MA',\n",
       "  'twitter': None,\n",
       "  'website': 'http://homenewshere.com/stoneham_independent/'},\n",
       " {'facebook': 'https://www.facebook.com/wickedlocalstoneham',\n",
       "  'medium': 'Newspapers',\n",
       "  'name': 'Stoneham Sun',\n",
       "  'state': 'MA',\n",
       "  'twitter': 'StonehamSun',\n",
       "  'website': 'http://stoneham.wickedlocal.com/'},\n",
       " {'facebook': 'https://www.facebook.com/wickedlocalstoughton',\n",
       "  'medium': 'Newspapers',\n",
       "  'name': 'Stoughton Journal',\n",
       "  'state': 'MA',\n",
       "  'twitter': 'WickedLocal',\n",
       "  'website': 'http://stoughton.wickedlocal.com/'},\n",
       " {'facebook': None,\n",
       "  'medium': 'Newspapers',\n",
       "  'name': 'Sturbridge Villager',\n",
       "  'state': 'MA',\n",
       "  'twitter': None,\n",
       "  'website': 'http://thesturbridgevillager.com/'},\n",
       " {'facebook': 'https://www.facebook.com/SudburyTownCrier',\n",
       "  'medium': 'Newspapers',\n",
       "  'name': 'Sudbury Town Crier',\n",
       "  'state': 'MA',\n",
       "  'twitter': 'SudburyCrier',\n",
       "  'website': 'http://sudbury.wickedlocal.com/'},\n",
       " {'facebook': 'https://www.facebook.com/NashobaValleyVoice',\n",
       "  'medium': 'Newspapers',\n",
       "  'name': 'Townsend Times',\n",
       "  'state': 'MA',\n",
       "  'twitter': 'NashobaValVoice',\n",
       "  'website': 'http://www.nashobavalleyvoice.com/townsend_news'},\n",
       " {'facebook': 'https://www.facebook.com/pages/508Local/1542845009313192',\n",
       "  'medium': 'Newspapers',\n",
       "  'name': 'Blackstone Valley Tribune',\n",
       "  'state': 'MA',\n",
       "  'twitter': None,\n",
       "  'website': 'http://www.villagernewspapers.com/'},\n",
       " {'facebook': 'https://www.facebook.com/mvtimes',\n",
       "  'medium': 'Newspapers',\n",
       "  'name': 'MV Times',\n",
       "  'state': 'MA',\n",
       "  'twitter': 'TheMVTimes',\n",
       "  'website': 'http://www.mvtimes.com/'},\n",
       " {'facebook': 'https://www.facebook.com/wakefield.observer',\n",
       "  'medium': 'Newspapers',\n",
       "  'name': 'Wakefield Observer',\n",
       "  'state': 'MA',\n",
       "  'twitter': 'WakefldObserver',\n",
       "  'website': 'http://wakefield.wickedlocal.com/'},\n",
       " {'facebook': 'https://www.facebook.com/WarehamCourier',\n",
       "  'medium': 'Newspapers',\n",
       "  'name': 'Wareham Courier',\n",
       "  'state': 'MA',\n",
       "  'twitter': 'warehamcourier',\n",
       "  'website': 'http://wareham.wickedlocal.com/'},\n",
       " {'facebook': 'https://www.facebook.com/pages/Wicked-Local-Watertown/334992331236',\n",
       "  'medium': 'Newspapers',\n",
       "  'name': 'Watertown TAB & Press',\n",
       "  'state': 'MA',\n",
       "  'twitter': 'watertowntab',\n",
       "  'website': 'http://watertown.wickedlocal.com/'},\n",
       " {'facebook': 'https://www.facebook.com/WaylandTownCrier',\n",
       "  'medium': 'Newspapers',\n",
       "  'name': 'Wayland Town Crier',\n",
       "  'state': 'MA',\n",
       "  'twitter': 'WaylandCrier',\n",
       "  'website': 'http://wayland.wickedlocal.com/'},\n",
       " {'facebook': 'https://www.facebook.com/wellesley.townsman',\n",
       "  'medium': 'Newspapers',\n",
       "  'name': 'Wellesley Townsman',\n",
       "  'state': 'MA',\n",
       "  'twitter': 'wellesleytown',\n",
       "  'website': 'http://wellesley.wickedlocal.com/'},\n",
       " {'facebook': 'https://www.facebook.com/westboroughnews',\n",
       "  'medium': 'Newspapers',\n",
       "  'name': 'Westborough News',\n",
       "  'state': 'MA',\n",
       "  'twitter': 'WestboroughNews',\n",
       "  'website': 'http://westborough.wickedlocal.com/'},\n",
       " {'facebook': 'https://www.facebook.com/pages/Wilmington-Advocate/122520094457054',\n",
       "  'medium': 'Newspapers',\n",
       "  'name': 'Wilmington Advocate',\n",
       "  'state': 'MA',\n",
       "  'twitter': 'WickedLocal',\n",
       "  'website': 'http://wilmington.wickedlocal.com/'},\n",
       " {'facebook': 'https://www.facebook.com/pages/The-Winchendon-Courier/241021155941922',\n",
       "  'medium': 'Newspapers',\n",
       "  'name': 'Winchendon Courier',\n",
       "  'state': 'MA',\n",
       "  'twitter': None,\n",
       "  'website': 'http://www.villagernewspapers.com/'},\n",
       " {'facebook': 'https://www.facebook.com/pages/The-Winchester-Star/195641831897',\n",
       "  'medium': 'Newspapers',\n",
       "  'name': 'Winchester Star',\n",
       "  'state': 'MA',\n",
       "  'twitter': None,\n",
       "  'website': 'http://www.winchesterstar.com/'},\n",
       " {'facebook': None,\n",
       "  'medium': 'Newspapers',\n",
       "  'name': 'Winthrop Transcript',\n",
       "  'state': 'MA',\n",
       "  'twitter': None,\n",
       "  'website': 'http://www.winthroptranscript.com/'},\n",
       " {'facebook': None,\n",
       "  'medium': 'Newspapers',\n",
       "  'name': 'Daily Times Chronicle',\n",
       "  'state': 'MA',\n",
       "  'twitter': None,\n",
       "  'website': 'http://homenewshere.com/daily_times_chronicle/'},\n",
       " {'facebook': 'https://www.facebook.com/pages/The-Woburn-Advocate/302766153235?sk=timeline',\n",
       "  'medium': 'Newspapers',\n",
       "  'name': 'Woburn Advocate',\n",
       "  'state': 'MA',\n",
       "  'twitter': 'woburnadvocate',\n",
       "  'website': 'http://woburn.wickedlocal.com/'}]"
      ]
     },
     "execution_count": 219,
     "metadata": {},
     "output_type": "execute_result"
    }
   ],
   "source": [
    "sites"
   ]
  },
  {
   "cell_type": "code",
   "execution_count": null,
   "metadata": {
    "collapsed": true
   },
   "outputs": [],
   "source": []
  }
 ],
 "metadata": {
  "kernelspec": {
   "display_name": "Python 3",
   "language": "python",
   "name": "python3"
  },
  "language_info": {
   "codemirror_mode": {
    "name": "ipython",
    "version": 3
   },
   "file_extension": ".py",
   "mimetype": "text/x-python",
   "name": "python",
   "nbconvert_exporter": "python",
   "pygments_lexer": "ipython3",
   "version": "3.6.1"
  }
 },
 "nbformat": 4,
 "nbformat_minor": 2
}
